{
 "cells": [
  {
   "cell_type": "code",
   "execution_count": 1,
   "metadata": {},
   "outputs": [],
   "source": [
    "#Importing libraries\n",
    "import pandas as pd\n",
    "import numpy as np\n",
    "import matplotlib.pyplot as plt\n",
    "import seaborn as sns\n"
   ]
  },
  {
   "cell_type": "code",
   "execution_count": 2,
   "metadata": {},
   "outputs": [
    {
     "data": {
      "text/html": [
       "<div>\n",
       "<style scoped>\n",
       "    .dataframe tbody tr th:only-of-type {\n",
       "        vertical-align: middle;\n",
       "    }\n",
       "\n",
       "    .dataframe tbody tr th {\n",
       "        vertical-align: top;\n",
       "    }\n",
       "\n",
       "    .dataframe thead th {\n",
       "        text-align: right;\n",
       "    }\n",
       "</style>\n",
       "<table border=\"1\" class=\"dataframe\">\n",
       "  <thead>\n",
       "    <tr style=\"text-align: right;\">\n",
       "      <th></th>\n",
       "      <th>Age</th>\n",
       "      <th>OperationYr</th>\n",
       "      <th>Nodes</th>\n",
       "      <th>Survival</th>\n",
       "    </tr>\n",
       "  </thead>\n",
       "  <tbody>\n",
       "    <tr>\n",
       "      <th>0</th>\n",
       "      <td>30</td>\n",
       "      <td>64</td>\n",
       "      <td>1</td>\n",
       "      <td>1</td>\n",
       "    </tr>\n",
       "    <tr>\n",
       "      <th>1</th>\n",
       "      <td>30</td>\n",
       "      <td>62</td>\n",
       "      <td>3</td>\n",
       "      <td>1</td>\n",
       "    </tr>\n",
       "    <tr>\n",
       "      <th>2</th>\n",
       "      <td>30</td>\n",
       "      <td>65</td>\n",
       "      <td>0</td>\n",
       "      <td>1</td>\n",
       "    </tr>\n",
       "    <tr>\n",
       "      <th>3</th>\n",
       "      <td>31</td>\n",
       "      <td>59</td>\n",
       "      <td>2</td>\n",
       "      <td>1</td>\n",
       "    </tr>\n",
       "    <tr>\n",
       "      <th>4</th>\n",
       "      <td>31</td>\n",
       "      <td>65</td>\n",
       "      <td>4</td>\n",
       "      <td>1</td>\n",
       "    </tr>\n",
       "    <tr>\n",
       "      <th>5</th>\n",
       "      <td>33</td>\n",
       "      <td>58</td>\n",
       "      <td>10</td>\n",
       "      <td>1</td>\n",
       "    </tr>\n",
       "    <tr>\n",
       "      <th>6</th>\n",
       "      <td>33</td>\n",
       "      <td>60</td>\n",
       "      <td>0</td>\n",
       "      <td>1</td>\n",
       "    </tr>\n",
       "    <tr>\n",
       "      <th>7</th>\n",
       "      <td>34</td>\n",
       "      <td>59</td>\n",
       "      <td>0</td>\n",
       "      <td>2</td>\n",
       "    </tr>\n",
       "    <tr>\n",
       "      <th>8</th>\n",
       "      <td>34</td>\n",
       "      <td>66</td>\n",
       "      <td>9</td>\n",
       "      <td>2</td>\n",
       "    </tr>\n",
       "    <tr>\n",
       "      <th>9</th>\n",
       "      <td>34</td>\n",
       "      <td>58</td>\n",
       "      <td>30</td>\n",
       "      <td>1</td>\n",
       "    </tr>\n",
       "    <tr>\n",
       "      <th>10</th>\n",
       "      <td>34</td>\n",
       "      <td>60</td>\n",
       "      <td>1</td>\n",
       "      <td>1</td>\n",
       "    </tr>\n",
       "    <tr>\n",
       "      <th>11</th>\n",
       "      <td>34</td>\n",
       "      <td>61</td>\n",
       "      <td>10</td>\n",
       "      <td>1</td>\n",
       "    </tr>\n",
       "  </tbody>\n",
       "</table>\n",
       "</div>"
      ],
      "text/plain": [
       "    Age  OperationYr  Nodes  Survival\n",
       "0    30           64      1         1\n",
       "1    30           62      3         1\n",
       "2    30           65      0         1\n",
       "3    31           59      2         1\n",
       "4    31           65      4         1\n",
       "5    33           58     10         1\n",
       "6    33           60      0         1\n",
       "7    34           59      0         2\n",
       "8    34           66      9         2\n",
       "9    34           58     30         1\n",
       "10   34           60      1         1\n",
       "11   34           61     10         1"
      ]
     },
     "execution_count": 2,
     "metadata": {},
     "output_type": "execute_result"
    }
   ],
   "source": [
    "#getting the data \n",
    "Cancer = pd.read_csv('C:\\\\Kailash sukumaran\\\\learning\\\\haberman_cancer_dataset.csv' ,names=['Age','OperationYr','Nodes','Survival'])       \n",
    "Cancer.head(12)"
   ]
  },
  {
   "cell_type": "code",
   "execution_count": 3,
   "metadata": {},
   "outputs": [],
   "source": [
    "# Converting year format from 'YY'  to 'YYYY'\n",
    "Cancer['OperationYr'] = Cancer['OperationYr'] + 1900 "
   ]
  },
  {
   "cell_type": "code",
   "execution_count": 4,
   "metadata": {},
   "outputs": [
    {
     "name": "stdout",
     "output_type": "stream",
     "text": [
      " Dataset Shape: (306, 4) \n",
      "*********************** \n",
      "Dataset Columns:\n",
      "Index(['Age', 'OperationYr', 'Nodes', 'Survival'], dtype='object') \n",
      "********************** \n",
      "Data Description:\n",
      "              Age  OperationYr       Nodes    Survival\n",
      "count  306.000000   306.000000  306.000000  306.000000\n",
      "mean    52.457516  1962.852941    4.026144    1.264706\n",
      "std     10.803452     3.249405    7.189654    0.441899\n",
      "min     30.000000  1958.000000    0.000000    1.000000\n",
      "25%     44.000000  1960.000000    0.000000    1.000000\n",
      "50%     52.000000  1963.000000    1.000000    1.000000\n",
      "75%     60.750000  1965.750000    4.000000    2.000000\n",
      "max     83.000000  1969.000000   52.000000    2.000000 \n",
      "********************** \n",
      "Does Data contains null values \n",
      "  Age            False\n",
      "OperationYr    False\n",
      "Nodes          False\n",
      "Survival       False\n",
      "dtype: bool \n"
     ]
    }
   ],
   "source": [
    "# Getting Statistical description About the Data\n",
    "print(' Dataset Shape: {} \\n*********************** \\nDataset Columns:\\n{} \\n********************** \\nData Description:\\n{} \\n********************** \\nDoes Data contains null values \\n  {} '\\\n",
    "      .format(Cancer.shape, Cancer.columns, Cancer.describe(), Cancer.isnull().all()))"
   ]
  },
  {
   "cell_type": "markdown",
   "metadata": {},
   "source": [
    "# Observation:\n",
    "    we have 4 attributes with 306 observations.\n",
    "    None of our columns contain Null values.\n",
    "    Survey was done for the period 1958 to 1969."
   ]
  },
  {
   "cell_type": "code",
   "execution_count": 5,
   "metadata": {},
   "outputs": [
    {
     "name": "stdout",
     "output_type": "stream",
     "text": [
      "-- Survived -- \n",
      "225 \n",
      " -- Unsurvived -- \n",
      "81\n"
     ]
    }
   ],
   "source": [
    "# Splitting the data frame into Survived and Unsurvived\n",
    "df_survived = Cancer[Cancer['Survival'] ==1 ]\n",
    "df_unsurvived = Cancer[Cancer['Survival'] ==2 ]\n",
    "print('-- Survived -- \\n{} \\n -- Unsurvived -- \\n{}'.format(str(df_survived.shape[0]),str(df_unsurvived.shape[0])))"
   ]
  },
  {
   "cell_type": "markdown",
   "metadata": {},
   "source": [
    "# Observation:\n",
    "    Survived: Count -- 225 probability  -- 0.74\n",
    "    Unsurvived: Count -- 81 probability -- 0.26"
   ]
  },
  {
   "cell_type": "code",
   "execution_count": 6,
   "metadata": {},
   "outputs": [
    {
     "data": {
      "text/html": [
       "<div>\n",
       "<style scoped>\n",
       "    .dataframe tbody tr th:only-of-type {\n",
       "        vertical-align: middle;\n",
       "    }\n",
       "\n",
       "    .dataframe tbody tr th {\n",
       "        vertical-align: top;\n",
       "    }\n",
       "\n",
       "    .dataframe thead th {\n",
       "        text-align: right;\n",
       "    }\n",
       "</style>\n",
       "<table border=\"1\" class=\"dataframe\">\n",
       "  <thead>\n",
       "    <tr style=\"text-align: right;\">\n",
       "      <th></th>\n",
       "      <th>Age</th>\n",
       "      <th>OperationYr</th>\n",
       "      <th>Nodes</th>\n",
       "      <th>Survival</th>\n",
       "    </tr>\n",
       "  </thead>\n",
       "  <tbody>\n",
       "    <tr>\n",
       "      <th>0</th>\n",
       "      <td>30</td>\n",
       "      <td>1964</td>\n",
       "      <td>1</td>\n",
       "      <td>1</td>\n",
       "    </tr>\n",
       "    <tr>\n",
       "      <th>1</th>\n",
       "      <td>30</td>\n",
       "      <td>1962</td>\n",
       "      <td>3</td>\n",
       "      <td>1</td>\n",
       "    </tr>\n",
       "    <tr>\n",
       "      <th>2</th>\n",
       "      <td>30</td>\n",
       "      <td>1965</td>\n",
       "      <td>0</td>\n",
       "      <td>1</td>\n",
       "    </tr>\n",
       "    <tr>\n",
       "      <th>3</th>\n",
       "      <td>31</td>\n",
       "      <td>1959</td>\n",
       "      <td>2</td>\n",
       "      <td>1</td>\n",
       "    </tr>\n",
       "    <tr>\n",
       "      <th>4</th>\n",
       "      <td>31</td>\n",
       "      <td>1965</td>\n",
       "      <td>4</td>\n",
       "      <td>1</td>\n",
       "    </tr>\n",
       "    <tr>\n",
       "      <th>5</th>\n",
       "      <td>33</td>\n",
       "      <td>1958</td>\n",
       "      <td>10</td>\n",
       "      <td>1</td>\n",
       "    </tr>\n",
       "    <tr>\n",
       "      <th>6</th>\n",
       "      <td>33</td>\n",
       "      <td>1960</td>\n",
       "      <td>0</td>\n",
       "      <td>1</td>\n",
       "    </tr>\n",
       "    <tr>\n",
       "      <th>9</th>\n",
       "      <td>34</td>\n",
       "      <td>1958</td>\n",
       "      <td>30</td>\n",
       "      <td>1</td>\n",
       "    </tr>\n",
       "    <tr>\n",
       "      <th>10</th>\n",
       "      <td>34</td>\n",
       "      <td>1960</td>\n",
       "      <td>1</td>\n",
       "      <td>1</td>\n",
       "    </tr>\n",
       "    <tr>\n",
       "      <th>11</th>\n",
       "      <td>34</td>\n",
       "      <td>1961</td>\n",
       "      <td>10</td>\n",
       "      <td>1</td>\n",
       "    </tr>\n",
       "    <tr>\n",
       "      <th>12</th>\n",
       "      <td>34</td>\n",
       "      <td>1967</td>\n",
       "      <td>7</td>\n",
       "      <td>1</td>\n",
       "    </tr>\n",
       "    <tr>\n",
       "      <th>13</th>\n",
       "      <td>34</td>\n",
       "      <td>1960</td>\n",
       "      <td>0</td>\n",
       "      <td>1</td>\n",
       "    </tr>\n",
       "  </tbody>\n",
       "</table>\n",
       "</div>"
      ],
      "text/plain": [
       "    Age  OperationYr  Nodes  Survival\n",
       "0    30         1964      1         1\n",
       "1    30         1962      3         1\n",
       "2    30         1965      0         1\n",
       "3    31         1959      2         1\n",
       "4    31         1965      4         1\n",
       "5    33         1958     10         1\n",
       "6    33         1960      0         1\n",
       "9    34         1958     30         1\n",
       "10   34         1960      1         1\n",
       "11   34         1961     10         1\n",
       "12   34         1967      7         1\n",
       "13   34         1960      0         1"
      ]
     },
     "execution_count": 6,
     "metadata": {},
     "output_type": "execute_result"
    }
   ],
   "source": [
    "#check Dataframe\n",
    "df_survived.head(12)"
   ]
  },
  {
   "cell_type": "code",
   "execution_count": 7,
   "metadata": {},
   "outputs": [
    {
     "data": {
      "text/html": [
       "<div>\n",
       "<style scoped>\n",
       "    .dataframe tbody tr th:only-of-type {\n",
       "        vertical-align: middle;\n",
       "    }\n",
       "\n",
       "    .dataframe tbody tr th {\n",
       "        vertical-align: top;\n",
       "    }\n",
       "\n",
       "    .dataframe thead th {\n",
       "        text-align: right;\n",
       "    }\n",
       "</style>\n",
       "<table border=\"1\" class=\"dataframe\">\n",
       "  <thead>\n",
       "    <tr style=\"text-align: right;\">\n",
       "      <th></th>\n",
       "      <th>Age</th>\n",
       "      <th>OperationYr</th>\n",
       "      <th>Nodes</th>\n",
       "      <th>Survival</th>\n",
       "    </tr>\n",
       "  </thead>\n",
       "  <tbody>\n",
       "    <tr>\n",
       "      <th>7</th>\n",
       "      <td>34</td>\n",
       "      <td>1959</td>\n",
       "      <td>0</td>\n",
       "      <td>2</td>\n",
       "    </tr>\n",
       "    <tr>\n",
       "      <th>8</th>\n",
       "      <td>34</td>\n",
       "      <td>1966</td>\n",
       "      <td>9</td>\n",
       "      <td>2</td>\n",
       "    </tr>\n",
       "    <tr>\n",
       "      <th>24</th>\n",
       "      <td>38</td>\n",
       "      <td>1969</td>\n",
       "      <td>21</td>\n",
       "      <td>2</td>\n",
       "    </tr>\n",
       "    <tr>\n",
       "      <th>34</th>\n",
       "      <td>39</td>\n",
       "      <td>1966</td>\n",
       "      <td>0</td>\n",
       "      <td>2</td>\n",
       "    </tr>\n",
       "    <tr>\n",
       "      <th>43</th>\n",
       "      <td>41</td>\n",
       "      <td>1960</td>\n",
       "      <td>23</td>\n",
       "      <td>2</td>\n",
       "    </tr>\n",
       "    <tr>\n",
       "      <th>44</th>\n",
       "      <td>41</td>\n",
       "      <td>1964</td>\n",
       "      <td>0</td>\n",
       "      <td>2</td>\n",
       "    </tr>\n",
       "    <tr>\n",
       "      <th>45</th>\n",
       "      <td>41</td>\n",
       "      <td>1967</td>\n",
       "      <td>0</td>\n",
       "      <td>2</td>\n",
       "    </tr>\n",
       "    <tr>\n",
       "      <th>53</th>\n",
       "      <td>42</td>\n",
       "      <td>1969</td>\n",
       "      <td>1</td>\n",
       "      <td>2</td>\n",
       "    </tr>\n",
       "    <tr>\n",
       "      <th>54</th>\n",
       "      <td>42</td>\n",
       "      <td>1959</td>\n",
       "      <td>0</td>\n",
       "      <td>2</td>\n",
       "    </tr>\n",
       "    <tr>\n",
       "      <th>62</th>\n",
       "      <td>43</td>\n",
       "      <td>1958</td>\n",
       "      <td>52</td>\n",
       "      <td>2</td>\n",
       "    </tr>\n",
       "    <tr>\n",
       "      <th>63</th>\n",
       "      <td>43</td>\n",
       "      <td>1959</td>\n",
       "      <td>2</td>\n",
       "      <td>2</td>\n",
       "    </tr>\n",
       "    <tr>\n",
       "      <th>64</th>\n",
       "      <td>43</td>\n",
       "      <td>1964</td>\n",
       "      <td>0</td>\n",
       "      <td>2</td>\n",
       "    </tr>\n",
       "  </tbody>\n",
       "</table>\n",
       "</div>"
      ],
      "text/plain": [
       "    Age  OperationYr  Nodes  Survival\n",
       "7    34         1959      0         2\n",
       "8    34         1966      9         2\n",
       "24   38         1969     21         2\n",
       "34   39         1966      0         2\n",
       "43   41         1960     23         2\n",
       "44   41         1964      0         2\n",
       "45   41         1967      0         2\n",
       "53   42         1969      1         2\n",
       "54   42         1959      0         2\n",
       "62   43         1958     52         2\n",
       "63   43         1959      2         2\n",
       "64   43         1964      0         2"
      ]
     },
     "execution_count": 7,
     "metadata": {},
     "output_type": "execute_result"
    }
   ],
   "source": [
    "#check Dataframe\n",
    "df_unsurvived.head(12)"
   ]
  },
  {
   "cell_type": "markdown",
   "metadata": {},
   "source": [
    "# Bivariate analysis"
   ]
  },
  {
   "cell_type": "code",
   "execution_count": 8,
   "metadata": {},
   "outputs": [],
   "source": [
    "#Creating a Function for PDF analysis.\n",
    "def CalPDFCDF(FeatureVariable, ClassVariable):\n",
    "    sns.FacetGrid(data=Cancer, hue=ClassVariable, height=5) \\\n",
    "    .map(sns.distplot, FeatureVariable) \\\n",
    "    .add_legend()"
   ]
  },
  {
   "cell_type": "code",
   "execution_count": 9,
   "metadata": {
    "scrolled": false
   },
   "outputs": [
    {
     "name": "stderr",
     "output_type": "stream",
     "text": [
      "C:\\Users\\sukumk1\\AppData\\Local\\Continuum\\anaconda3\\lib\\site-packages\\scipy\\stats\\stats.py:1713: FutureWarning: Using a non-tuple sequence for multidimensional indexing is deprecated; use `arr[tuple(seq)]` instead of `arr[seq]`. In the future this will be interpreted as an array index, `arr[np.array(seq)]`, which will result either in an error or a different result.\n",
      "  return np.add.reduce(sorted[indexer] * weights, axis=axis) / sumval\n"
     ]
    },
    {
     "data": {
      "image/png": "[encoded data removed]",
      "text/plain": [
       "<Figure size 408.375x360 with 1 Axes>"
      ]
     },
     "metadata": {
      "needs_background": "light"
     },
     "output_type": "display_data"
    }
   ],
   "source": [
    "#PLOT 1.1\n",
    "CalPDFCDF('OperationYr','Survival')"
   ]
  },
  {
   "cell_type": "code",
   "execution_count": 10,
   "metadata": {
    "scrolled": false
   },
   "outputs": [
    {
     "name": "stderr",
     "output_type": "stream",
     "text": [
      "C:\\Users\\sukumk1\\AppData\\Local\\Continuum\\anaconda3\\lib\\site-packages\\scipy\\stats\\stats.py:1713: FutureWarning: Using a non-tuple sequence for multidimensional indexing is deprecated; use `arr[tuple(seq)]` instead of `arr[seq]`. In the future this will be interpreted as an array index, `arr[np.array(seq)]`, which will result either in an error or a different result.\n",
      "  return np.add.reduce(sorted[indexer] * weights, axis=axis) / sumval\n"
     ]
    },
    {
     "data": {
      "image/png": "[encoded data removed]",
      "text/plain": [
       "<Figure size 408.375x360 with 1 Axes>"
      ]
     },
     "metadata": {
      "needs_background": "light"
     },
     "output_type": "display_data"
    }
   ],
   "source": [
    "#PLOT 1.2\n",
    "CalPDFCDF('Age','Survival')"
   ]
  },
  {
   "cell_type": "code",
   "execution_count": 11,
   "metadata": {},
   "outputs": [
    {
     "name": "stderr",
     "output_type": "stream",
     "text": [
      "C:\\Users\\sukumk1\\AppData\\Local\\Continuum\\anaconda3\\lib\\site-packages\\scipy\\stats\\stats.py:1713: FutureWarning: Using a non-tuple sequence for multidimensional indexing is deprecated; use `arr[tuple(seq)]` instead of `arr[seq]`. In the future this will be interpreted as an array index, `arr[np.array(seq)]`, which will result either in an error or a different result.\n",
      "  return np.add.reduce(sorted[indexer] * weights, axis=axis) / sumval\n"
     ]
    },
    {
     "data": {
      "image/png": "[encoded data removed]",
      "text/plain": [
       "<Figure size 408.375x360 with 1 Axes>"
      ]
     },
     "metadata": {
      "needs_background": "light"
     },
     "output_type": "display_data"
    }
   ],
   "source": [
    "#PLOT 1.3\n",
    "CalPDFCDF('Nodes','Survival')"
   ]
  },
  {
   "cell_type": "markdown",
   "metadata": {},
   "source": [
    "# Observation: \n",
    "    Compare to 3 plots above. \n",
    "  \n",
    "    Nodes Plot(1.3) showed difference in Survival and Unsurvived PDF."
   ]
  },
  {
   "cell_type": "code",
   "execution_count": 12,
   "metadata": {},
   "outputs": [
    {
     "data": {
      "image/png": "[encoded data removed]",
      "text/plain": [
       "<Figure size 432x288 with 1 Axes>"
      ]
     },
     "metadata": {
      "needs_background": "light"
     },
     "output_type": "display_data"
    }
   ],
   "source": [
    "# NODES Histogram plot \n",
    "plt.title('Nodes Freq. plot')\n",
    "plt.hist(df_survived.Nodes,label = 'More than 5 Yrs Survived')\n",
    "plt.hist(df_unsurvived.Nodes,label = 'Less than 5 Yrs Survived')\n",
    "plt.xlabel('Nodes')\n",
    "plt.ylabel('Nodes Freq')\n",
    "plt.legend()\n",
    "plt.grid()"
   ]
  },
  {
   "cell_type": "markdown",
   "metadata": {},
   "source": [
    "# Observation:\n",
    "    Survived People have more nodes (on the whole) than unsurvived people."
   ]
  },
  {
   "cell_type": "code",
   "execution_count": 13,
   "metadata": {},
   "outputs": [
    {
     "data": {
      "image/png": "[encoded data removed]",
      "text/plain": [
       "<Figure size 432x288 with 1 Axes>"
      ]
     },
     "metadata": {
      "needs_background": "light"
     },
     "output_type": "display_data"
    }
   ],
   "source": [
    "plt.title('Year of Operation Freq. plot')\n",
    "plt.hist(df_survived.OperationYr,label = 'Survived')\n",
    "plt.hist(df_unsurvived.OperationYr,label = 'Unsurvived')\n",
    "plt.xlabel('Year of Operation')\n",
    "plt.legend()\n",
    "plt.grid()"
   ]
  },
  {
   "cell_type": "markdown",
   "metadata": {},
   "source": [
    "# Observation:\n",
    "    we could notice Survived people did more operation than Unsurvived, Almost Double the times done by unsurvived."
   ]
  },
  {
   "cell_type": "code",
   "execution_count": 14,
   "metadata": {},
   "outputs": [
    {
     "data": {
      "text/plain": [
       "126"
      ]
     },
     "execution_count": 14,
     "metadata": {},
     "output_type": "execute_result"
    }
   ],
   "source": [
    "df_survived[df_survived['OperationYr'].between(1959,1964)].shape[0]\n"
   ]
  },
  {
   "cell_type": "code",
   "execution_count": 15,
   "metadata": {},
   "outputs": [
    {
     "data": {
      "text/plain": [
       "39"
      ]
     },
     "execution_count": 15,
     "metadata": {},
     "output_type": "execute_result"
    }
   ],
   "source": [
    "df_unsurvived[df_unsurvived['OperationYr'].between(1959,1964)].shape[0]"
   ]
  },
  {
   "cell_type": "code",
   "execution_count": 16,
   "metadata": {},
   "outputs": [
    {
     "data": {
      "image/png": "[encoded data removed]",
      "text/plain": [
       "<Figure size 432x288 with 1 Axes>"
      ]
     },
     "metadata": {
      "needs_background": "light"
     },
     "output_type": "display_data"
    }
   ],
   "source": [
    "plt.plot(df_survived.OperationYr,df_survived.Nodes,'g.',label='Survived')\n",
    "plt.plot(df_unsurvived.OperationYr,df_unsurvived.Nodes,'r.',label='unSurvived')\n",
    "plt.grid()\n",
    "plt.show()"
   ]
  },
  {
   "cell_type": "code",
   "execution_count": 17,
   "metadata": {},
   "outputs": [
    {
     "data": {
      "text/plain": [
       "225"
      ]
     },
     "execution_count": 17,
     "metadata": {},
     "output_type": "execute_result"
    }
   ],
   "source": [
    "df_survived.shape[0]"
   ]
  },
  {
   "cell_type": "code",
   "execution_count": 18,
   "metadata": {},
   "outputs": [
    {
     "data": {
      "image/png": "[encoded data removed]",
      "text/plain": [
       "<Figure size 432x288 with 1 Axes>"
      ]
     },
     "metadata": {
      "needs_background": "light"
     },
     "output_type": "display_data"
    }
   ],
   "source": [
    "peak, interval_time = np.histogram(df_survived.Nodes,bins=10,density=True)\n",
    "pdf = peak/sum(peak)\n",
    "cdf = np.cumsum(pdf)\n",
    "plt.plot(interval_time[1:],pdf,'g--',label='Survived pdf')\n",
    "plt.plot(interval_time[1:],cdf,label='Survived cdf')\n",
    "peak, interval_time = np.histogram(df_unsurvived.Nodes,bins=10,density=True)\n",
    "pdf = peak/sum(peak)\n",
    "cdf = np.cumsum(pdf)\n",
    "plt.plot(interval_time[1:],pdf,'r--',label='Unsurvived pdf')\n",
    "plt.plot(interval_time[1:],cdf,'r',label='Unsurvived cdf')\n",
    "plt.legend()\n",
    "plt.grid()\n",
    "plt.show()\n"
   ]
  },
  {
   "cell_type": "markdown",
   "metadata": {},
   "source": [
    "# Multivariate Analysis"
   ]
  },
  {
   "cell_type": "code",
   "execution_count": 19,
   "metadata": {},
   "outputs": [
    {
     "name": "stderr",
     "output_type": "stream",
     "text": [
      "C:\\Users\\sukumk1\\AppData\\Local\\Continuum\\anaconda3\\lib\\site-packages\\scipy\\stats\\stats.py:1713: FutureWarning: Using a non-tuple sequence for multidimensional indexing is deprecated; use `arr[tuple(seq)]` instead of `arr[seq]`. In the future this will be interpreted as an array index, `arr[np.array(seq)]`, which will result either in an error or a different result.\n",
      "  return np.add.reduce(sorted[indexer] * weights, axis=axis) / sumval\n",
      "C:\\Users\\sukumk1\\AppData\\Local\\Continuum\\anaconda3\\lib\\site-packages\\statsmodels\\nonparametric\\kde.py:488: RuntimeWarning: invalid value encountered in true_divide\n",
      "  binned = fast_linbin(X, a, b, gridsize) / (delta * nobs)\n",
      "C:\\Users\\sukumk1\\AppData\\Local\\Continuum\\anaconda3\\lib\\site-packages\\statsmodels\\nonparametric\\kdetools.py:34: RuntimeWarning: invalid value encountered in double_scalars\n",
      "  FAC1 = 2*(np.pi*bw/RANGE)**2\n",
      "C:\\Users\\sukumk1\\AppData\\Local\\Continuum\\anaconda3\\lib\\site-packages\\numpy\\core\\fromnumeric.py:83: RuntimeWarning: invalid value encountered in reduce\n",
      "  return ufunc.reduce(obj, axis, dtype, out, **passkwargs)\n"
     ]
    },
    {
     "data": {
      "text/plain": [
       "<seaborn.axisgrid.PairGrid at 0x272b69c0278>"
      ]
     },
     "execution_count": 19,
     "metadata": {},
     "output_type": "execute_result"
    },
    {
     "data": {
      "image/png": "[encoded data removed]",
      "text/plain": [
       "<Figure size 768.375x720 with 20 Axes>"
      ]
     },
     "metadata": {
      "needs_background": "light"
     },
     "output_type": "display_data"
    }
   ],
   "source": [
    "sns.pairplot(data=Cancer, hue='Survival')"
   ]
  },
  {
   "cell_type": "markdown",
   "metadata": {},
   "source": [
    "# Bivariate Analysis"
   ]
  },
  {
   "cell_type": "code",
   "execution_count": 20,
   "metadata": {
    "scrolled": true
   },
   "outputs": [
    {
     "data": {
      "text/plain": [
       "[<matplotlib.lines.Line2D at 0x272b6b10828>]"
      ]
     },
     "execution_count": 20,
     "metadata": {},
     "output_type": "execute_result"
    },
    {
     "data": {
      "image/png": "[encoded data removed]",
      "text/plain": [
       "<Figure size 432x288 with 1 Axes>"
      ]
     },
     "metadata": {
      "needs_background": "light"
     },
     "output_type": "display_data"
    }
   ],
   "source": [
    "plt.plot(df_survived.Age,df_survived.Nodes,'g.')\n",
    "plt.plot(df_unsurvived.Age,df_unsurvived.Nodes,'r.')"
   ]
  },
  {
   "cell_type": "code",
   "execution_count": 21,
   "metadata": {},
   "outputs": [
    {
     "data": {
      "text/plain": [
       "2.7911111111111113"
      ]
     },
     "execution_count": 21,
     "metadata": {},
     "output_type": "execute_result"
    }
   ],
   "source": [
    "df_survived.Nodes.sum()/df_survived.Nodes.count()"
   ]
  },
  {
   "cell_type": "code",
   "execution_count": 22,
   "metadata": {},
   "outputs": [
    {
     "data": {
      "text/plain": [
       "7.45679012345679"
      ]
     },
     "execution_count": 22,
     "metadata": {},
     "output_type": "execute_result"
    }
   ],
   "source": [
    "df_unsurvived.Nodes.sum()/df_unsurvived.Nodes.count()"
   ]
  },
  {
   "cell_type": "markdown",
   "metadata": {},
   "source": [
    "# Observation:\n",
    "    We could get a insight that on average unsurvived people have 2.5 times more nodes than survived."
   ]
  },
  {
   "cell_type": "code",
   "execution_count": 23,
   "metadata": {},
   "outputs": [
    {
     "data": {
      "text/plain": [
       "<matplotlib.legend.Legend at 0x272b6a120f0>"
      ]
     },
     "execution_count": 23,
     "metadata": {},
     "output_type": "execute_result"
    },
    {
     "data": {
      "image/png": "[encoded data removed]",
      "text/plain": [
       "<Figure size 720x432 with 1 Axes>"
      ]
     },
     "metadata": {
      "needs_background": "light"
     },
     "output_type": "display_data"
    }
   ],
   "source": [
    "from  matplotlib.pyplot import figure\n",
    "figure(figsize=(10,6))\n",
    "plt.hist(df_survived.Nodes,label='Survived')\n",
    "plt.hist(df_unsurvived.Nodes,label='Unsurvived')\n",
    "plt.xticks([0,4,5,9,10,20,30,40,50,60])\n",
    "plt.legend()"
   ]
  },
  {
   "cell_type": "markdown",
   "metadata": {},
   "source": [
    "# Observation:\n",
    "    We could see that major portion of the nodes for survival people is within 5 nodes. \n",
    "    More than 5 Nodes survival becomes tough"
   ]
  },
  {
   "cell_type": "code",
   "execution_count": 24,
   "metadata": {},
   "outputs": [
    {
     "data": {
      "text/html": [
       "<div>\n",
       "<style scoped>\n",
       "    .dataframe tbody tr th:only-of-type {\n",
       "        vertical-align: middle;\n",
       "    }\n",
       "\n",
       "    .dataframe tbody tr th {\n",
       "        vertical-align: top;\n",
       "    }\n",
       "\n",
       "    .dataframe thead th {\n",
       "        text-align: right;\n",
       "    }\n",
       "</style>\n",
       "<table border=\"1\" class=\"dataframe\">\n",
       "  <thead>\n",
       "    <tr style=\"text-align: right;\">\n",
       "      <th></th>\n",
       "      <th>Age</th>\n",
       "      <th>OperationYr</th>\n",
       "      <th>Nodes</th>\n",
       "      <th>Survival</th>\n",
       "      <th>Survived_Nodes</th>\n",
       "      <th>Unsurvived_Nodes</th>\n",
       "      <th>Survived_Count</th>\n",
       "      <th>Unsurvived_Count</th>\n",
       "      <th>Agegrp</th>\n",
       "    </tr>\n",
       "  </thead>\n",
       "  <tbody>\n",
       "    <tr>\n",
       "      <th>0</th>\n",
       "      <td>30</td>\n",
       "      <td>1964</td>\n",
       "      <td>1</td>\n",
       "      <td>1</td>\n",
       "      <td>1.0</td>\n",
       "      <td>0.0</td>\n",
       "      <td>1.0</td>\n",
       "      <td>0.0</td>\n",
       "      <td>(20, 30]</td>\n",
       "    </tr>\n",
       "    <tr>\n",
       "      <th>1</th>\n",
       "      <td>30</td>\n",
       "      <td>1962</td>\n",
       "      <td>3</td>\n",
       "      <td>1</td>\n",
       "      <td>3.0</td>\n",
       "      <td>0.0</td>\n",
       "      <td>1.0</td>\n",
       "      <td>0.0</td>\n",
       "      <td>(20, 30]</td>\n",
       "    </tr>\n",
       "    <tr>\n",
       "      <th>2</th>\n",
       "      <td>30</td>\n",
       "      <td>1965</td>\n",
       "      <td>0</td>\n",
       "      <td>1</td>\n",
       "      <td>0.0</td>\n",
       "      <td>0.0</td>\n",
       "      <td>1.0</td>\n",
       "      <td>0.0</td>\n",
       "      <td>(20, 30]</td>\n",
       "    </tr>\n",
       "    <tr>\n",
       "      <th>3</th>\n",
       "      <td>31</td>\n",
       "      <td>1959</td>\n",
       "      <td>2</td>\n",
       "      <td>1</td>\n",
       "      <td>2.0</td>\n",
       "      <td>0.0</td>\n",
       "      <td>1.0</td>\n",
       "      <td>0.0</td>\n",
       "      <td>(30, 40]</td>\n",
       "    </tr>\n",
       "    <tr>\n",
       "      <th>4</th>\n",
       "      <td>31</td>\n",
       "      <td>1965</td>\n",
       "      <td>4</td>\n",
       "      <td>1</td>\n",
       "      <td>4.0</td>\n",
       "      <td>0.0</td>\n",
       "      <td>1.0</td>\n",
       "      <td>0.0</td>\n",
       "      <td>(30, 40]</td>\n",
       "    </tr>\n",
       "  </tbody>\n",
       "</table>\n",
       "</div>"
      ],
      "text/plain": [
       "   Age  OperationYr  Nodes  Survival  Survived_Nodes  Unsurvived_Nodes  \\\n",
       "0   30         1964      1         1             1.0               0.0   \n",
       "1   30         1962      3         1             3.0               0.0   \n",
       "2   30         1965      0         1             0.0               0.0   \n",
       "3   31         1959      2         1             2.0               0.0   \n",
       "4   31         1965      4         1             4.0               0.0   \n",
       "\n",
       "   Survived_Count  Unsurvived_Count    Agegrp  \n",
       "0             1.0               0.0  (20, 30]  \n",
       "1             1.0               0.0  (20, 30]  \n",
       "2             1.0               0.0  (20, 30]  \n",
       "3             1.0               0.0  (30, 40]  \n",
       "4             1.0               0.0  (30, 40]  "
      ]
     },
     "execution_count": 24,
     "metadata": {},
     "output_type": "execute_result"
    }
   ],
   "source": [
    "tempCancer = Cancer\n",
    "tempCancer['Survived_Nodes'] = Cancer[Cancer['Survival']==1]['Nodes']\n",
    "tempCancer['Unsurvived_Nodes'] = Cancer[Cancer['Survival']==2]['Nodes']\n",
    "tempCancer['Survived_Count'] = Cancer[Cancer['Survival']==1]['Survival']\n",
    "tempCancer['Unsurvived_Count'] = Cancer[Cancer['Survival']==2]['Survival']/2\n",
    "tempCancer = tempCancer.replace(np.nan,0)\n",
    "tempCancer['Agegrp'] =pd.cut(tempCancer.Age,[10,20,30,40,50,60,70,80,90])\n",
    "tempCancer.head()"
   ]
  },
  {
   "cell_type": "code",
   "execution_count": 25,
   "metadata": {},
   "outputs": [
    {
     "data": {
      "text/html": [
       "<div>\n",
       "<style scoped>\n",
       "    .dataframe tbody tr th:only-of-type {\n",
       "        vertical-align: middle;\n",
       "    }\n",
       "\n",
       "    .dataframe tbody tr th {\n",
       "        vertical-align: top;\n",
       "    }\n",
       "\n",
       "    .dataframe thead th {\n",
       "        text-align: right;\n",
       "    }\n",
       "</style>\n",
       "<table border=\"1\" class=\"dataframe\">\n",
       "  <thead>\n",
       "    <tr style=\"text-align: right;\">\n",
       "      <th></th>\n",
       "      <th>Age</th>\n",
       "      <th>OperationYr</th>\n",
       "      <th>Nodes</th>\n",
       "      <th>Survival</th>\n",
       "      <th>Survived_Nodes</th>\n",
       "      <th>Unsurvived_Nodes</th>\n",
       "      <th>Survived_Count</th>\n",
       "      <th>Unsurvived_Count</th>\n",
       "    </tr>\n",
       "    <tr>\n",
       "      <th>Agegrp</th>\n",
       "      <th></th>\n",
       "      <th></th>\n",
       "      <th></th>\n",
       "      <th></th>\n",
       "      <th></th>\n",
       "      <th></th>\n",
       "      <th></th>\n",
       "      <th></th>\n",
       "    </tr>\n",
       "  </thead>\n",
       "  <tbody>\n",
       "    <tr>\n",
       "      <th>(10, 20]</th>\n",
       "      <td>0</td>\n",
       "      <td>0</td>\n",
       "      <td>0</td>\n",
       "      <td>0</td>\n",
       "      <td>0.0</td>\n",
       "      <td>0.0</td>\n",
       "      <td>0.0</td>\n",
       "      <td>0.0</td>\n",
       "    </tr>\n",
       "    <tr>\n",
       "      <th>(20, 30]</th>\n",
       "      <td>90</td>\n",
       "      <td>5891</td>\n",
       "      <td>4</td>\n",
       "      <td>3</td>\n",
       "      <td>4.0</td>\n",
       "      <td>0.0</td>\n",
       "      <td>3.0</td>\n",
       "      <td>0.0</td>\n",
       "    </tr>\n",
       "    <tr>\n",
       "      <th>(30, 40]</th>\n",
       "      <td>1464</td>\n",
       "      <td>78482</td>\n",
       "      <td>160</td>\n",
       "      <td>44</td>\n",
       "      <td>130.0</td>\n",
       "      <td>30.0</td>\n",
       "      <td>36.0</td>\n",
       "      <td>4.0</td>\n",
       "    </tr>\n",
       "    <tr>\n",
       "      <th>(40, 50]</th>\n",
       "      <td>4239</td>\n",
       "      <td>182541</td>\n",
       "      <td>389</td>\n",
       "      <td>122</td>\n",
       "      <td>165.0</td>\n",
       "      <td>224.0</td>\n",
       "      <td>64.0</td>\n",
       "      <td>29.0</td>\n",
       "    </tr>\n",
       "    <tr>\n",
       "      <th>(50, 60]</th>\n",
       "      <td>5126</td>\n",
       "      <td>182560</td>\n",
       "      <td>453</td>\n",
       "      <td>119</td>\n",
       "      <td>221.0</td>\n",
       "      <td>232.0</td>\n",
       "      <td>67.0</td>\n",
       "      <td>26.0</td>\n",
       "    </tr>\n",
       "    <tr>\n",
       "      <th>(60, 70]</th>\n",
       "      <td>4091</td>\n",
       "      <td>123664</td>\n",
       "      <td>211</td>\n",
       "      <td>81</td>\n",
       "      <td>99.0</td>\n",
       "      <td>112.0</td>\n",
       "      <td>45.0</td>\n",
       "      <td>18.0</td>\n",
       "    </tr>\n",
       "    <tr>\n",
       "      <th>(70, 80]</th>\n",
       "      <td>959</td>\n",
       "      <td>25537</td>\n",
       "      <td>13</td>\n",
       "      <td>16</td>\n",
       "      <td>9.0</td>\n",
       "      <td>4.0</td>\n",
       "      <td>10.0</td>\n",
       "      <td>3.0</td>\n",
       "    </tr>\n",
       "    <tr>\n",
       "      <th>(80, 90]</th>\n",
       "      <td>83</td>\n",
       "      <td>1958</td>\n",
       "      <td>2</td>\n",
       "      <td>2</td>\n",
       "      <td>0.0</td>\n",
       "      <td>2.0</td>\n",
       "      <td>0.0</td>\n",
       "      <td>1.0</td>\n",
       "    </tr>\n",
       "  </tbody>\n",
       "</table>\n",
       "</div>"
      ],
      "text/plain": [
       "           Age  OperationYr  Nodes  Survival  Survived_Nodes  \\\n",
       "Agegrp                                                         \n",
       "(10, 20]     0            0      0         0             0.0   \n",
       "(20, 30]    90         5891      4         3             4.0   \n",
       "(30, 40]  1464        78482    160        44           130.0   \n",
       "(40, 50]  4239       182541    389       122           165.0   \n",
       "(50, 60]  5126       182560    453       119           221.0   \n",
       "(60, 70]  4091       123664    211        81            99.0   \n",
       "(70, 80]   959        25537     13        16             9.0   \n",
       "(80, 90]    83         1958      2         2             0.0   \n",
       "\n",
       "          Unsurvived_Nodes  Survived_Count  Unsurvived_Count  \n",
       "Agegrp                                                        \n",
       "(10, 20]               0.0             0.0               0.0  \n",
       "(20, 30]               0.0             3.0               0.0  \n",
       "(30, 40]              30.0            36.0               4.0  \n",
       "(40, 50]             224.0            64.0              29.0  \n",
       "(50, 60]             232.0            67.0              26.0  \n",
       "(60, 70]             112.0            45.0              18.0  \n",
       "(70, 80]               4.0            10.0               3.0  \n",
       "(80, 90]               2.0             0.0               1.0  "
      ]
     },
     "execution_count": 25,
     "metadata": {},
     "output_type": "execute_result"
    }
   ],
   "source": [
    "tempCancer.groupby('Agegrp').sum()"
   ]
  },
  {
   "cell_type": "code",
   "execution_count": 26,
   "metadata": {
    "scrolled": true
   },
   "outputs": [
    {
     "data": {
      "text/html": [
       "<div>\n",
       "<style scoped>\n",
       "    .dataframe tbody tr th:only-of-type {\n",
       "        vertical-align: middle;\n",
       "    }\n",
       "\n",
       "    .dataframe tbody tr th {\n",
       "        vertical-align: top;\n",
       "    }\n",
       "\n",
       "    .dataframe thead th {\n",
       "        text-align: right;\n",
       "    }\n",
       "</style>\n",
       "<table border=\"1\" class=\"dataframe\">\n",
       "  <thead>\n",
       "    <tr style=\"text-align: right;\">\n",
       "      <th></th>\n",
       "      <th>Age</th>\n",
       "      <th>OperationYr</th>\n",
       "      <th>Nodes</th>\n",
       "      <th>Survival</th>\n",
       "      <th>Survived_Nodes</th>\n",
       "      <th>Unsurvived_Nodes</th>\n",
       "      <th>Survived_Count</th>\n",
       "      <th>Unsurvived_Count</th>\n",
       "      <th>Agegrp</th>\n",
       "    </tr>\n",
       "  </thead>\n",
       "  <tbody>\n",
       "    <tr>\n",
       "      <th>0</th>\n",
       "      <td>30</td>\n",
       "      <td>1964</td>\n",
       "      <td>1</td>\n",
       "      <td>1</td>\n",
       "      <td>1.0</td>\n",
       "      <td>0.0</td>\n",
       "      <td>1.0</td>\n",
       "      <td>0.0</td>\n",
       "      <td>(20, 30]</td>\n",
       "    </tr>\n",
       "    <tr>\n",
       "      <th>1</th>\n",
       "      <td>30</td>\n",
       "      <td>1962</td>\n",
       "      <td>3</td>\n",
       "      <td>1</td>\n",
       "      <td>3.0</td>\n",
       "      <td>0.0</td>\n",
       "      <td>1.0</td>\n",
       "      <td>0.0</td>\n",
       "      <td>(20, 30]</td>\n",
       "    </tr>\n",
       "    <tr>\n",
       "      <th>2</th>\n",
       "      <td>30</td>\n",
       "      <td>1965</td>\n",
       "      <td>0</td>\n",
       "      <td>1</td>\n",
       "      <td>0.0</td>\n",
       "      <td>0.0</td>\n",
       "      <td>1.0</td>\n",
       "      <td>0.0</td>\n",
       "      <td>(20, 30]</td>\n",
       "    </tr>\n",
       "    <tr>\n",
       "      <th>3</th>\n",
       "      <td>31</td>\n",
       "      <td>1959</td>\n",
       "      <td>2</td>\n",
       "      <td>1</td>\n",
       "      <td>2.0</td>\n",
       "      <td>0.0</td>\n",
       "      <td>1.0</td>\n",
       "      <td>0.0</td>\n",
       "      <td>(30, 40]</td>\n",
       "    </tr>\n",
       "    <tr>\n",
       "      <th>4</th>\n",
       "      <td>31</td>\n",
       "      <td>1965</td>\n",
       "      <td>4</td>\n",
       "      <td>1</td>\n",
       "      <td>4.0</td>\n",
       "      <td>0.0</td>\n",
       "      <td>1.0</td>\n",
       "      <td>0.0</td>\n",
       "      <td>(30, 40]</td>\n",
       "    </tr>\n",
       "    <tr>\n",
       "      <th>5</th>\n",
       "      <td>33</td>\n",
       "      <td>1958</td>\n",
       "      <td>10</td>\n",
       "      <td>1</td>\n",
       "      <td>10.0</td>\n",
       "      <td>0.0</td>\n",
       "      <td>1.0</td>\n",
       "      <td>0.0</td>\n",
       "      <td>(30, 40]</td>\n",
       "    </tr>\n",
       "    <tr>\n",
       "      <th>6</th>\n",
       "      <td>33</td>\n",
       "      <td>1960</td>\n",
       "      <td>0</td>\n",
       "      <td>1</td>\n",
       "      <td>0.0</td>\n",
       "      <td>0.0</td>\n",
       "      <td>1.0</td>\n",
       "      <td>0.0</td>\n",
       "      <td>(30, 40]</td>\n",
       "    </tr>\n",
       "    <tr>\n",
       "      <th>7</th>\n",
       "      <td>34</td>\n",
       "      <td>1959</td>\n",
       "      <td>0</td>\n",
       "      <td>2</td>\n",
       "      <td>0.0</td>\n",
       "      <td>0.0</td>\n",
       "      <td>0.0</td>\n",
       "      <td>1.0</td>\n",
       "      <td>(30, 40]</td>\n",
       "    </tr>\n",
       "  </tbody>\n",
       "</table>\n",
       "</div>"
      ],
      "text/plain": [
       "   Age  OperationYr  Nodes  Survival  Survived_Nodes  Unsurvived_Nodes  \\\n",
       "0   30         1964      1         1             1.0               0.0   \n",
       "1   30         1962      3         1             3.0               0.0   \n",
       "2   30         1965      0         1             0.0               0.0   \n",
       "3   31         1959      2         1             2.0               0.0   \n",
       "4   31         1965      4         1             4.0               0.0   \n",
       "5   33         1958     10         1            10.0               0.0   \n",
       "6   33         1960      0         1             0.0               0.0   \n",
       "7   34         1959      0         2             0.0               0.0   \n",
       "\n",
       "   Survived_Count  Unsurvived_Count    Agegrp  \n",
       "0             1.0               0.0  (20, 30]  \n",
       "1             1.0               0.0  (20, 30]  \n",
       "2             1.0               0.0  (20, 30]  \n",
       "3             1.0               0.0  (30, 40]  \n",
       "4             1.0               0.0  (30, 40]  \n",
       "5             1.0               0.0  (30, 40]  \n",
       "6             1.0               0.0  (30, 40]  \n",
       "7             0.0               1.0  (30, 40]  "
      ]
     },
     "execution_count": 26,
     "metadata": {},
     "output_type": "execute_result"
    }
   ],
   "source": [
    "tempCancer.head(8)"
   ]
  },
  {
   "cell_type": "code",
   "execution_count": 27,
   "metadata": {},
   "outputs": [],
   "source": [
    "Survived_Unsurvived = pd.DataFrame({'Age':[],'Survived_Nodes':[],'Survived_Count':[],'Unsurvived_Nodes':[],'Unsurvived_Count':[]})"
   ]
  },
  {
   "cell_type": "code",
   "execution_count": 28,
   "metadata": {},
   "outputs": [
    {
     "data": {
      "text/html": [
       "<div>\n",
       "<style scoped>\n",
       "    .dataframe tbody tr th:only-of-type {\n",
       "        vertical-align: middle;\n",
       "    }\n",
       "\n",
       "    .dataframe tbody tr th {\n",
       "        vertical-align: top;\n",
       "    }\n",
       "\n",
       "    .dataframe thead th {\n",
       "        text-align: right;\n",
       "    }\n",
       "</style>\n",
       "<table border=\"1\" class=\"dataframe\">\n",
       "  <thead>\n",
       "    <tr style=\"text-align: right;\">\n",
       "      <th></th>\n",
       "      <th>Age</th>\n",
       "      <th>OperationYr</th>\n",
       "      <th>Nodes</th>\n",
       "      <th>Survival</th>\n",
       "      <th>Survived_Nodes</th>\n",
       "      <th>Unsurvived_Nodes</th>\n",
       "      <th>Survived_Count</th>\n",
       "      <th>Unsurvived_Count</th>\n",
       "    </tr>\n",
       "    <tr>\n",
       "      <th>Agegrp</th>\n",
       "      <th></th>\n",
       "      <th></th>\n",
       "      <th></th>\n",
       "      <th></th>\n",
       "      <th></th>\n",
       "      <th></th>\n",
       "      <th></th>\n",
       "      <th></th>\n",
       "    </tr>\n",
       "  </thead>\n",
       "  <tbody>\n",
       "    <tr>\n",
       "      <th>(10, 20]</th>\n",
       "      <td>0</td>\n",
       "      <td>0</td>\n",
       "      <td>0</td>\n",
       "      <td>0</td>\n",
       "      <td>0.0</td>\n",
       "      <td>0.0</td>\n",
       "      <td>0.0</td>\n",
       "      <td>0.0</td>\n",
       "    </tr>\n",
       "    <tr>\n",
       "      <th>(20, 30]</th>\n",
       "      <td>90</td>\n",
       "      <td>5891</td>\n",
       "      <td>4</td>\n",
       "      <td>3</td>\n",
       "      <td>4.0</td>\n",
       "      <td>0.0</td>\n",
       "      <td>3.0</td>\n",
       "      <td>0.0</td>\n",
       "    </tr>\n",
       "    <tr>\n",
       "      <th>(30, 40]</th>\n",
       "      <td>1464</td>\n",
       "      <td>78482</td>\n",
       "      <td>160</td>\n",
       "      <td>44</td>\n",
       "      <td>130.0</td>\n",
       "      <td>30.0</td>\n",
       "      <td>36.0</td>\n",
       "      <td>4.0</td>\n",
       "    </tr>\n",
       "    <tr>\n",
       "      <th>(40, 50]</th>\n",
       "      <td>4239</td>\n",
       "      <td>182541</td>\n",
       "      <td>389</td>\n",
       "      <td>122</td>\n",
       "      <td>165.0</td>\n",
       "      <td>224.0</td>\n",
       "      <td>64.0</td>\n",
       "      <td>29.0</td>\n",
       "    </tr>\n",
       "    <tr>\n",
       "      <th>(50, 60]</th>\n",
       "      <td>5126</td>\n",
       "      <td>182560</td>\n",
       "      <td>453</td>\n",
       "      <td>119</td>\n",
       "      <td>221.0</td>\n",
       "      <td>232.0</td>\n",
       "      <td>67.0</td>\n",
       "      <td>26.0</td>\n",
       "    </tr>\n",
       "    <tr>\n",
       "      <th>(60, 70]</th>\n",
       "      <td>4091</td>\n",
       "      <td>123664</td>\n",
       "      <td>211</td>\n",
       "      <td>81</td>\n",
       "      <td>99.0</td>\n",
       "      <td>112.0</td>\n",
       "      <td>45.0</td>\n",
       "      <td>18.0</td>\n",
       "    </tr>\n",
       "    <tr>\n",
       "      <th>(70, 80]</th>\n",
       "      <td>959</td>\n",
       "      <td>25537</td>\n",
       "      <td>13</td>\n",
       "      <td>16</td>\n",
       "      <td>9.0</td>\n",
       "      <td>4.0</td>\n",
       "      <td>10.0</td>\n",
       "      <td>3.0</td>\n",
       "    </tr>\n",
       "    <tr>\n",
       "      <th>(80, 90]</th>\n",
       "      <td>83</td>\n",
       "      <td>1958</td>\n",
       "      <td>2</td>\n",
       "      <td>2</td>\n",
       "      <td>0.0</td>\n",
       "      <td>2.0</td>\n",
       "      <td>0.0</td>\n",
       "      <td>1.0</td>\n",
       "    </tr>\n",
       "  </tbody>\n",
       "</table>\n",
       "</div>"
      ],
      "text/plain": [
       "           Age  OperationYr  Nodes  Survival  Survived_Nodes  \\\n",
       "Agegrp                                                         \n",
       "(10, 20]     0            0      0         0             0.0   \n",
       "(20, 30]    90         5891      4         3             4.0   \n",
       "(30, 40]  1464        78482    160        44           130.0   \n",
       "(40, 50]  4239       182541    389       122           165.0   \n",
       "(50, 60]  5126       182560    453       119           221.0   \n",
       "(60, 70]  4091       123664    211        81            99.0   \n",
       "(70, 80]   959        25537     13        16             9.0   \n",
       "(80, 90]    83         1958      2         2             0.0   \n",
       "\n",
       "          Unsurvived_Nodes  Survived_Count  Unsurvived_Count  \n",
       "Agegrp                                                        \n",
       "(10, 20]               0.0             0.0               0.0  \n",
       "(20, 30]               0.0             3.0               0.0  \n",
       "(30, 40]              30.0            36.0               4.0  \n",
       "(40, 50]             224.0            64.0              29.0  \n",
       "(50, 60]             232.0            67.0              26.0  \n",
       "(60, 70]             112.0            45.0              18.0  \n",
       "(70, 80]               4.0            10.0               3.0  \n",
       "(80, 90]               2.0             0.0               1.0  "
      ]
     },
     "execution_count": 28,
     "metadata": {},
     "output_type": "execute_result"
    }
   ],
   "source": [
    "tempCancer.groupby('Agegrp').sum()"
   ]
  },
  {
   "cell_type": "code",
   "execution_count": 29,
   "metadata": {},
   "outputs": [],
   "source": [
    "Survived_Unsurvived['Age'] = tempCancer.groupby('Agegrp',as_index=False).sum()['Agegrp']\n",
    "Survived_Unsurvived['Survived_Nodes'] = tempCancer.groupby('Agegrp',as_index=False).sum()['Survived_Nodes']\n",
    "Survived_Unsurvived['Survived_Count'] = tempCancer.groupby('Agegrp',as_index=False).sum()['Survived_Count']\n",
    "Survived_Unsurvived['Unsurvived_Nodes'] = tempCancer.groupby('Agegrp',as_index=False).sum()['Unsurvived_Nodes']\n",
    "Survived_Unsurvived['Unsurvived_Count'] = tempCancer.groupby('Agegrp',as_index=False).sum()['Unsurvived_Count']\n",
    "Survived_Unsurvived['Agegrp'] = list(range(10,90,10))"
   ]
  },
  {
   "cell_type": "code",
   "execution_count": 30,
   "metadata": {},
   "outputs": [
    {
     "data": {
      "text/html": [
       "<div>\n",
       "<style scoped>\n",
       "    .dataframe tbody tr th:only-of-type {\n",
       "        vertical-align: middle;\n",
       "    }\n",
       "\n",
       "    .dataframe tbody tr th {\n",
       "        vertical-align: top;\n",
       "    }\n",
       "\n",
       "    .dataframe thead th {\n",
       "        text-align: right;\n",
       "    }\n",
       "</style>\n",
       "<table border=\"1\" class=\"dataframe\">\n",
       "  <thead>\n",
       "    <tr style=\"text-align: right;\">\n",
       "      <th></th>\n",
       "      <th>Age</th>\n",
       "      <th>Survived_Nodes</th>\n",
       "      <th>Survived_Count</th>\n",
       "      <th>Unsurvived_Nodes</th>\n",
       "      <th>Unsurvived_Count</th>\n",
       "      <th>Agegrp</th>\n",
       "    </tr>\n",
       "  </thead>\n",
       "  <tbody>\n",
       "    <tr>\n",
       "      <th>0</th>\n",
       "      <td>(10, 20]</td>\n",
       "      <td>0.0</td>\n",
       "      <td>0.0</td>\n",
       "      <td>0.0</td>\n",
       "      <td>0.0</td>\n",
       "      <td>10</td>\n",
       "    </tr>\n",
       "    <tr>\n",
       "      <th>1</th>\n",
       "      <td>(20, 30]</td>\n",
       "      <td>4.0</td>\n",
       "      <td>3.0</td>\n",
       "      <td>0.0</td>\n",
       "      <td>0.0</td>\n",
       "      <td>20</td>\n",
       "    </tr>\n",
       "    <tr>\n",
       "      <th>2</th>\n",
       "      <td>(30, 40]</td>\n",
       "      <td>130.0</td>\n",
       "      <td>36.0</td>\n",
       "      <td>30.0</td>\n",
       "      <td>4.0</td>\n",
       "      <td>30</td>\n",
       "    </tr>\n",
       "    <tr>\n",
       "      <th>3</th>\n",
       "      <td>(40, 50]</td>\n",
       "      <td>165.0</td>\n",
       "      <td>64.0</td>\n",
       "      <td>224.0</td>\n",
       "      <td>29.0</td>\n",
       "      <td>40</td>\n",
       "    </tr>\n",
       "    <tr>\n",
       "      <th>4</th>\n",
       "      <td>(50, 60]</td>\n",
       "      <td>221.0</td>\n",
       "      <td>67.0</td>\n",
       "      <td>232.0</td>\n",
       "      <td>26.0</td>\n",
       "      <td>50</td>\n",
       "    </tr>\n",
       "    <tr>\n",
       "      <th>5</th>\n",
       "      <td>(60, 70]</td>\n",
       "      <td>99.0</td>\n",
       "      <td>45.0</td>\n",
       "      <td>112.0</td>\n",
       "      <td>18.0</td>\n",
       "      <td>60</td>\n",
       "    </tr>\n",
       "    <tr>\n",
       "      <th>6</th>\n",
       "      <td>(70, 80]</td>\n",
       "      <td>9.0</td>\n",
       "      <td>10.0</td>\n",
       "      <td>4.0</td>\n",
       "      <td>3.0</td>\n",
       "      <td>70</td>\n",
       "    </tr>\n",
       "    <tr>\n",
       "      <th>7</th>\n",
       "      <td>(80, 90]</td>\n",
       "      <td>0.0</td>\n",
       "      <td>0.0</td>\n",
       "      <td>2.0</td>\n",
       "      <td>1.0</td>\n",
       "      <td>80</td>\n",
       "    </tr>\n",
       "  </tbody>\n",
       "</table>\n",
       "</div>"
      ],
      "text/plain": [
       "        Age  Survived_Nodes  Survived_Count  Unsurvived_Nodes  \\\n",
       "0  (10, 20]             0.0             0.0               0.0   \n",
       "1  (20, 30]             4.0             3.0               0.0   \n",
       "2  (30, 40]           130.0            36.0              30.0   \n",
       "3  (40, 50]           165.0            64.0             224.0   \n",
       "4  (50, 60]           221.0            67.0             232.0   \n",
       "5  (60, 70]            99.0            45.0             112.0   \n",
       "6  (70, 80]             9.0            10.0               4.0   \n",
       "7  (80, 90]             0.0             0.0               2.0   \n",
       "\n",
       "   Unsurvived_Count  Agegrp  \n",
       "0               0.0      10  \n",
       "1               0.0      20  \n",
       "2               4.0      30  \n",
       "3              29.0      40  \n",
       "4              26.0      50  \n",
       "5              18.0      60  \n",
       "6               3.0      70  \n",
       "7               1.0      80  "
      ]
     },
     "execution_count": 30,
     "metadata": {},
     "output_type": "execute_result"
    }
   ],
   "source": [
    "Survived_Unsurvived"
   ]
  },
  {
   "cell_type": "code",
   "execution_count": 31,
   "metadata": {},
   "outputs": [
    {
     "data": {
      "text/plain": [
       "<matplotlib.legend.Legend at 0x272b6988630>"
      ]
     },
     "execution_count": 31,
     "metadata": {},
     "output_type": "execute_result"
    },
    {
     "data": {
      "text/plain": [
       "<Figure size 432x288 with 0 Axes>"
      ]
     },
     "metadata": {},
     "output_type": "display_data"
    },
    {
     "data": {
      "image/png": "[encoded data removed]",
      "text/plain": [
       "<Figure size 720x360 with 2 Axes>"
      ]
     },
     "metadata": {
      "needs_background": "light"
     },
     "output_type": "display_data"
    }
   ],
   "source": [
    "plt.figure(1)\n",
    "plt.figure(figsize=(10,5))\n",
    "plt.subplot(121)\n",
    "\n",
    "plt.title('Age VS Nodes Count')\n",
    "plt.bar(Survived_Unsurvived.Agegrp,Survived_Unsurvived['Unsurvived_Nodes'],color='r',label='UnSurvived',align='center',width=2)\n",
    "plt.bar(Survived_Unsurvived.Agegrp,Survived_Unsurvived['Survived_Nodes'],color='g',label='Survived',align='edge',width=2)\n",
    "plt.grid()\n",
    "plt.legend()\n",
    "\n",
    "plt.subplot(122)\n",
    "\n",
    "plt.title('Age VS People Count')\n",
    "plt.bar(Survived_Unsurvived.Agegrp ,Survived_Unsurvived['Survived_Count'],color='g',label='Survived',align='edge',width=2)\n",
    "plt.bar(Survived_Unsurvived.Agegrp, Survived_Unsurvived['Unsurvived_Count'],color='r',label='UnSurvived',align='center',width=2)\n",
    "plt.grid()\n",
    "plt.legend()"
   ]
  },
  {
   "cell_type": "markdown",
   "metadata": {},
   "source": [
    "# Observation:\n",
    "    From the above two plots, we get insight that nodes might have influence in unsurvival rate.\n",
    "    Less survival rate when: \n",
    "        Age is between 40-60\n",
    "        "
   ]
  },
  {
   "cell_type": "code",
   "execution_count": 32,
   "metadata": {},
   "outputs": [
    {
     "data": {
      "image/png": "[encoded data removed]",
      "text/plain": [
       "<Figure size 432x288 with 1 Axes>"
      ]
     },
     "metadata": {
      "needs_background": "light"
     },
     "output_type": "display_data"
    }
   ],
   "source": [
    "peaks,interval = np.histogram(df_survived.Nodes, bins=50)\n",
    "plt.bar(interval[1:],peaks,color='g',label='Survived')\n",
    "peaks,interval = np.histogram(df_unsurvived.Nodes, bins=50)\n",
    "plt.bar(interval[1:],peaks,color='r',label='Unsurvived')\n",
    "plt.legend()\n",
    "plt.grid()"
   ]
  },
  {
   "cell_type": "markdown",
   "metadata": {},
   "source": [
    "# Multivariate Analysis: "
   ]
  },
  {
   "cell_type": "code",
   "execution_count": 33,
   "metadata": {},
   "outputs": [
    {
     "data": {
      "text/plain": [
       "<matplotlib.legend.Legend at 0x272b71f2978>"
      ]
     },
     "execution_count": 33,
     "metadata": {},
     "output_type": "execute_result"
    },
    {
     "data": {
      "image/png": "[encoded data removed]",
      "text/plain": [
       "<Figure size 1800x360 with 1 Axes>"
      ]
     },
     "metadata": {
      "needs_background": "light"
     },
     "output_type": "display_data"
    }
   ],
   "source": [
    "plt.figure(figsize=(25,5))\n",
    "plt.bar(df_unsurvived.Age,df_unsurvived.Nodes,align='edge',label='unsurvived',color='r')\n",
    "plt.bar(df_survived.Age,df_survived.Nodes,align='center',label='survived',color='g')\n",
    "plt.xlabel('Age')\n",
    "plt.ylabel('Nodes')\n",
    "plt.grid()\n",
    "plt.legend()"
   ]
  },
  {
   "cell_type": "code",
   "execution_count": 34,
   "metadata": {},
   "outputs": [
    {
     "data": {
      "text/plain": [
       "<matplotlib.legend.Legend at 0x272b7c04f60>"
      ]
     },
     "execution_count": 34,
     "metadata": {},
     "output_type": "execute_result"
    },
    {
     "data": {
      "image/png": "[encoded data removed]",
      "text/plain": [
       "<Figure size 1800x360 with 1 Axes>"
      ]
     },
     "metadata": {
      "needs_background": "light"
     },
     "output_type": "display_data"
    }
   ],
   "source": [
    "plt.figure(figsize=(25,5))\n",
    "plt.plot(df_unsurvived.Age,df_unsurvived.Nodes,'r^',label='unsurvived')\n",
    "plt.plot(df_survived.Age,df_survived.Nodes,'g^',label='survived')\n",
    "plt.yticks([0,5,10,15,20,25,30,35,40])\n",
    "plt.xticks([30,35,40,45,50,55,60,65,70,75,80])\n",
    "plt.xlabel('Age')\n",
    "plt.ylabel('Nodes')\n",
    "plt.grid()\n",
    "plt.legend()"
   ]
  },
  {
   "cell_type": "markdown",
   "metadata": {},
   "source": [
    "# Observation:\n",
    "    large amount of unsurvived points can be found in middle and slightly upper region of the plot.\n",
    "                "
   ]
  },
  {
   "cell_type": "code",
   "execution_count": 35,
   "metadata": {},
   "outputs": [
    {
     "data": {
      "text/plain": [
       "Age                 82\n",
       "OperationYr         82\n",
       "Nodes               82\n",
       "Survival            82\n",
       "Survived_Nodes      72\n",
       "Unsurvived_Nodes    10\n",
       "Survived_Count      72\n",
       "Unsurvived_Count    10\n",
       "dtype: int64"
      ]
     },
     "execution_count": 35,
     "metadata": {},
     "output_type": "execute_result"
    }
   ],
   "source": [
    "Cancer[(Cancer['Nodes']<3) & (Cancer['Age'].between(44,58))].count()"
   ]
  },
  {
   "cell_type": "code",
   "execution_count": 36,
   "metadata": {},
   "outputs": [
    {
     "data": {
      "text/plain": [
       "Age                 10\n",
       "OperationYr         10\n",
       "Nodes               10\n",
       "Survival            10\n",
       "Survived_Nodes       0\n",
       "Unsurvived_Nodes    10\n",
       "Survived_Count       0\n",
       "Unsurvived_Count    10\n",
       "dtype: int64"
      ]
     },
     "execution_count": 36,
     "metadata": {},
     "output_type": "execute_result"
    }
   ],
   "source": [
    "Cancer[(Cancer['Nodes']<3) & (Cancer['Survival'] == 2) & (Cancer['Age'].between(44,58))].count()"
   ]
  },
  {
   "cell_type": "code",
   "execution_count": 37,
   "metadata": {},
   "outputs": [
    {
     "data": {
      "text/plain": [
       "0.6666666666666666"
      ]
     },
     "execution_count": 37,
     "metadata": {},
     "output_type": "execute_result"
    }
   ],
   "source": [
    "14/21"
   ]
  },
  {
   "cell_type": "markdown",
   "metadata": {},
   "source": [
    "# Observation:\n",
    "    CASE 1:\n",
    "        53% Chance of being unsurvived when:\n",
    "            Age 45-70\n",
    "            Nodes >=3\n",
    "    CASE 2:\n",
    "        61% chance of being unsurvived when:\n",
    "            Age 44 - 58 \n",
    "            Nodes >=6\n",
    "    CASE 3:\n",
    "        67% Chance of being unsurvived when:\n",
    "            Age 44- 58 \n",
    "            Nodes >=10     "
   ]
  },
  {
   "cell_type": "markdown",
   "metadata": {},
   "source": [
    "# Model:\n",
    "    We could create a model with the above insights:\n",
    "        "
   ]
  },
  {
   "cell_type": "code",
   "execution_count": 38,
   "metadata": {},
   "outputs": [],
   "source": [
    "def CancerModel(age,nodes):\n",
    "    if nodes in range(0,3):\n",
    "        print('Survival rate is high')\n",
    "        \n",
    "    elif nodes in range(3,6):              \n",
    "        if age in range(45,71):\n",
    "            print('Survival rate is 47%')\n",
    "            \n",
    "        else:\n",
    "            print('Survival rate in unknown')\n",
    "            \n",
    "    elif nodes in range(6,9):              \n",
    "            if age in range(44,59):\n",
    "                print('Survival rate is 61%')\n",
    "            \n",
    "            else:\n",
    "                print('Survival rate in unknown')\n",
    "            \n",
    "    elif nodes >=10:              \n",
    "        if age in range(44,59):\n",
    "            print('Survival rate is 67%')\n",
    "            \n",
    "        else:\n",
    "            print('Survival rate in unknown')\n",
    "            \n",
    "    else:\n",
    "        print('Input parameter doesnt come in range')\n",
    "    \n",
    "\n"
   ]
  },
  {
   "cell_type": "code",
   "execution_count": 39,
   "metadata": {},
   "outputs": [
    {
     "name": "stdout",
     "output_type": "stream",
     "text": [
      "Survival rate in unknown\n"
     ]
    }
   ],
   "source": [
    "CancerModel(100,60)"
   ]
  },
  {
   "cell_type": "code",
   "execution_count": 40,
   "metadata": {},
   "outputs": [
    {
     "name": "stdout",
     "output_type": "stream",
     "text": [
      "Survival rate is 67%\n"
     ]
    }
   ],
   "source": [
    "CancerModel(55,21)"
   ]
  },
  {
   "cell_type": "code",
   "execution_count": 41,
   "metadata": {},
   "outputs": [
    {
     "name": "stdout",
     "output_type": "stream",
     "text": [
      "Survival rate in unknown\n"
     ]
    }
   ],
   "source": [
    "CancerModel(62,40)"
   ]
  },
  {
   "cell_type": "code",
   "execution_count": 42,
   "metadata": {},
   "outputs": [
    {
     "name": "stdout",
     "output_type": "stream",
     "text": [
      "Survival rate is high\n"
     ]
    }
   ],
   "source": [
    "CancerModel(100,0)"
   ]
  },
  {
   "cell_type": "code",
   "execution_count": 43,
   "metadata": {},
   "outputs": [
    {
     "name": "stdout",
     "output_type": "stream",
     "text": [
      "Survival rate in unknown\n"
     ]
    }
   ],
   "source": [
    "CancerModel(22,11)"
   ]
  },
  {
   "cell_type": "code",
   "execution_count": 45,
   "metadata": {},
   "outputs": [
    {
     "name": "stdout",
     "output_type": "stream",
     "text": [
      "Survival rate is 67%\n"
     ]
    }
   ],
   "source": [
    "CancerModel(50,12)"
   ]
  },
  {
   "cell_type": "code",
   "execution_count": null,
   "metadata": {},
   "outputs": [],
   "source": []
  }
 ],
 "metadata": {
  "kernelspec": {
   "display_name": "Python 3",
   "language": "python",
   "name": "python3"
  },
  "language_info": {
   "codemirror_mode": {
    "name": "ipython",
    "version": 3
   },
   "file_extension": ".py",
   "mimetype": "text/x-python",
   "name": "python",
   "nbconvert_exporter": "python",
   "pygments_lexer": "ipython3",
   "version": "3.7.0"
  }
 },
 "nbformat": 4,
 "nbformat_minor": 2
}
